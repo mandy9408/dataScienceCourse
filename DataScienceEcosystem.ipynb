{
  "metadata": {
    "kernelspec": {
      "name": "python",
      "display_name": "Python (Pyodide)",
      "language": "python"
    },
    "language_info": {
      "codemirror_mode": {
        "name": "python",
        "version": 3
      },
      "file_extension": ".py",
      "mimetype": "text/x-python",
      "name": "python",
      "nbconvert_exporter": "python",
      "pygments_lexer": "ipython3",
      "version": "3.8"
    }
  },
  "nbformat_minor": 5,
  "nbformat": 4,
  "cells": [
    {
      "id": "0fb23f02-1a09-4e0c-a04e-6c52a792f008",
      "cell_type": "markdown",
      "source": "###Below are a few examples of evaluating arithmetic expressions in Python.",
      "metadata": {}
    },
    {
      "id": "fa840c20-2731-47ce-b50b-d03ab0af03bc",
      "cell_type": "markdown",
      "source": "#This a simple arithmetic expression to mutiply then add integers",
      "metadata": {}
    },
    {
      "id": "6e5703d1-4800-431b-aadd-4324233fa777",
      "cell_type": "code",
      "source": "(3*4)+5",
      "metadata": {
        "trusted": true
      },
      "outputs": [
        {
          "execution_count": 1,
          "output_type": "execute_result",
          "data": {
            "text/plain": "17"
          },
          "metadata": {}
        }
      ],
      "execution_count": 1
    },
    {
      "id": "18c10ed7-2122-4b0c-96bb-2b5b4f3e6493",
      "cell_type": "code",
      "source": "# This will convert 200 minutes to hours by dividing by 60\nminutes = 200\nhours = minutes / 60\nprint(hours)",
      "metadata": {
        "trusted": true
      },
      "outputs": [
        {
          "name": "stdout",
          "output_type": "stream",
          "text": "3.3333333333333335\n"
        }
      ],
      "execution_count": 2
    },
    {
      "id": "daa0c4a8-213c-4e19-a31c-874abe13154a",
      "cell_type": "markdown",
      "source": "## Author\nAmanda Robles",
      "metadata": {}
    }
  ]
}